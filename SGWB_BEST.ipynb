{
 "cells": [
  {
   "cell_type": "code",
   "execution_count": 67,
   "id": "c30e981e",
   "metadata": {},
   "outputs": [],
   "source": [
    "import numpy as np\n",
    "import matplotlib.pyplot as pl\n",
    "import matplotlib as mpl\n",
    "import math\n",
    "import seaborn as sns\n",
    "from scipy import stats\n",
    "from astropy import constants as const\n",
    "import csv\n",
    "from scipy import constants\n",
    "from scipy.integrate import odeint\n",
    "from tqdm import tqdm\n",
    "from scipy import integrate\n",
    "from scipy.integrate import quad, dblquad\n",
    "from astropy.cosmology import Planck18 as cosmo# WMAP9 as cosmo #\n",
    "import astropy.units as u\n",
    "from sklearn import linear_model\n",
    "from sklearn.linear_model import LinearRegression\n",
    "from sklearn.metrics import mean_squared_error, r2_score\n",
    "from sympy import *\n",
    "from sympy import simplify\n",
    "import pandas as pd\n",
    "import os\n",
    "import errno\n",
    "from itertools import combinations, permutations\n",
    "import scipy.integrate as spi\n"
   ]
  },
  {
   "cell_type": "code",
   "execution_count": 68,
   "id": "018ac854",
   "metadata": {},
   "outputs": [],
   "source": [
    "H0 = cosmo.H(0)\n",
    "G = const.G\n",
    "c = const.c"
   ]
  },
  {
   "cell_type": "code",
   "execution_count": 69,
   "id": "b7cf89dc",
   "metadata": {},
   "outputs": [
    {
     "name": "stdout",
     "output_type": "stream",
     "text": [
      "Cluster Propierities\n",
      "\n",
      "M =\t 10000000.0 solMass\n",
      "R =\t 1.0 pc\n",
      "m_i =\t 10.0 solMass \t\t N_i =\t 500000\n",
      "m_j =\t 10.0 solMass \t\t N_j =\t 500000\n",
      "M_t =  10000000.0 solMass\n",
      "\t\t\t\t N_total =\t 1000000\n"
     ]
    }
   ],
   "source": [
    "M = 1e7 * u.M_sun\n",
    "R = 1.*u.parsec\n",
    "rho_DM = 0.2*u.M_sun/(u.pc**3)\n",
    "m_i = 10.*u.M_sun\n",
    "m_j = 10.*u.M_sun\n",
    "\n",
    "if m_i==m_j:\n",
    "    N_i = M/(2*m_i)\n",
    "    N_j = M/(2*m_j)\n",
    "    R_s_i = (2 * G * m_i) / c**2\n",
    "    R_s_j = (2 * G * m_j) / c**2 \n",
    "    R_min =  R_s_i + R_s_j\n",
    "\n",
    "M_i = (N_i*m_i)\n",
    "M_j = (N_j*m_j)\n",
    "    \n",
    "print(\"Cluster Propierities\\n\")\n",
    "print(\"M =\\t\", M)\n",
    "print(\"R =\\t\", R)\n",
    "print(\"m_i =\\t\", m_i, \"\\t\\t N_i =\\t\", round(float(N_i)))\n",
    "print(\"m_j =\\t\", m_j, \"\\t\\t N_j =\\t\", round(float(N_j)))\n",
    "print(\"M_t = \", (M_i + M_j))\n",
    "print(\"\\t\\t\\t\\t N_total =\\t\",round(float(N_i + N_j)))\n",
    "#print(\"v_rel =\\t\", \"{:.2f}\".format(v_rel.to(u.km* u.s**(-1))))"
   ]
  },
  {
   "cell_type": "code",
   "execution_count": 70,
   "id": "d56961b0",
   "metadata": {},
   "outputs": [],
   "source": [
    "def f_i(E_i): ## eq. 19 shapiro\n",
    "    return (24. * (2.)**(1./2.) * N_i * R**2. * E_i**(7./2.))/(7*(math.pi**(3.))*(G**5.)*(M**5.))\n",
    "\n",
    "def f_j(E_j):\n",
    "    return (24. * (2.)**(1./2.) * N_j * R**2. * E_j**(7./2.))/(7*(math.pi**(3.))*(G**5.)*(M**5.))\n",
    "\n",
    "def rho_i(r):## eq. 20\n",
    "    return ((3*M_i)/(4*(math.pi)*(R**(3.))))*((1 + r**(2.)/R**(2.))**(-5./2.))\n",
    "\n",
    "def rho_j(r):\n",
    "    return ((3*M_j)/(4*(math.pi)*(R**(3.))))*((1 + r**(2.)/R**(2.))**(-5./2.))\n",
    "\n",
    "def phi(r):## eq. 21\n",
    "    return (G*M/R)*((1 + r**(2.)/R**(2.))**(-1./2.))"
   ]
  },
  {
   "cell_type": "code",
   "execution_count": 71,
   "id": "97066f8d",
   "metadata": {},
   "outputs": [],
   "source": [
    "def n_i_1(r):\n",
    "    return (rho_i(r)/m_i)\n",
    "\n",
    "def n_j_1(r):\n",
    "    return (rho_j(r)/m_j)"
   ]
  },
  {
   "cell_type": "code",
   "execution_count": 72,
   "id": "464f7737",
   "metadata": {},
   "outputs": [],
   "source": [
    "alfa = ((4*24*(2**(1/2))*(R**(2.)))/(math.pi*(G**(5.))*(M**(5.))*(2**(17./2.))))\n",
    "\n",
    "def vel_i(r):\n",
    "    return (alfa**(1./2.))*(N_i**(1./2.))*((phi(r)**(3))/(n_i_1(r)**(1./2.)))\n",
    "\n",
    "def vel_j(r):\n",
    "    return (alfa**(1./2.))*(N_j**(1./2.))*((phi(r)**(3))/(n_j_1(r)**(1./2.)))"
   ]
  },
  {
   "cell_type": "code",
   "execution_count": 73,
   "id": "b9cb57c1",
   "metadata": {},
   "outputs": [],
   "source": [
    "def GAMMA(r1,r0):\n",
    "    a=(r1**(2.)/((R.value)**(2.)))\n",
    "    b=(r0**(2.)/(R**(2.)))\n",
    "    return (r1**(2.))*((1.+(a))**(-9./4.))*(1./((1. + b)**(1./4.)) + 1./((1. + a)**(1./4.)))**(3./7.) - abs((1./((1. + b)**(1./4.)) - 1./((1. + a)**(1./4.))))**(3./7.)"
   ]
  },
  {
   "cell_type": "code",
   "execution_count": 74,
   "id": "8c252357",
   "metadata": {},
   "outputs": [],
   "source": [
    "sigma = 2*math.pi*(85*math.pi/(6*math.sqrt(2)))**(2./7.) * (G**(2.) * (m_i+m_j)**(10./7.) * m_i**(2./7.) * m_j**(2./7.))/(c**(10./7.))\n",
    "sigma = sigma.to(u.m**(32./7)/u.s**(18./7.))#.to(u.parsec**2)\n",
    "#print(sigma)"
   ]
  },
  {
   "cell_type": "code",
   "execution_count": 75,
   "id": "ebae24d3",
   "metadata": {},
   "outputs": [],
   "source": [
    "betha = (3./(4*math.pi*(R**(3.))))\n",
    "etha = (G*M/R)"
   ]
  },
  {
   "cell_type": "code",
   "execution_count": 76,
   "id": "ad05a7b7",
   "metadata": {},
   "outputs": [],
   "source": [
    "interval = 0.1\n",
    "r = np.arange(.1, R.value+interval, interval)"
   ]
  },
  {
   "cell_type": "code",
   "execution_count": 77,
   "id": "a65a9676",
   "metadata": {},
   "outputs": [
    {
     "name": "stdout",
     "output_type": "stream",
     "text": [
      "Primordial Black holes Masses:\t m_i =  10.0 solMass \t m_j =  10.0 solMass \n",
      "\n",
      "radius \t merger_rate \t\t\t Number_Mergers at Universe's time \t Time to the first Merger\n",
      "\n",
      "0.10 \t 1.1143434547163082e-09 1 / yr \t\t 15.36332539721899 \t\t 0.897389396211406 Gyr\n",
      "0.20 \t 2.0797731991178226e-09 1 / yr \t\t 28.67359455043122 \t\t 0.48082165902713336 Gyr\n",
      "0.30 \t 3.002318199544929e-09 1 / yr \t\t 41.39261665726223 \t\t 0.3330759544912905 Gyr\n",
      "0.40 \t 3.7011387961942577e-09 1 / yr \t\t 51.02717606994852 \t\t 0.2701871113367223 Gyr\n",
      "0.50 \t 4.131557990152615e-09 1 / yr \t\t 56.96131612883586 \t\t 0.242039444292796 Gyr\n",
      "0.60 \t 4.326973344534613e-09 1 / yr \t\t 59.65548520595204 \t\t 0.23110842623125866 Gyr\n",
      "0.70 \t 4.345352792018542e-09 1 / yr \t\t 59.90888054032728 \t\t 0.2301309117724067 Gyr\n",
      "0.80 \t 4.241122545281193e-09 1 / yr \t\t 58.47187008355928 \t\t 0.2357866317993173 Gyr\n",
      "0.90 \t 4.056747343007816e-09 1 / yr \t\t 55.9299103172814 \t\t 0.2465029037915299 Gyr\n",
      "1.00 \t 3.823256684475184e-09 1 / yr \t\t 52.71080138900129 \t\t 0.26155711806131826 Gyr\n"
     ]
    }
   ],
   "source": [
    "print(\"Primordial Black holes Masses:\\t\", \"m_i = \",m_i,\"\\t m_j = \", m_j, \"\\n\")\n",
    "print(\"radius \\t merger_rate \\t\\t\\t Number_Mergers at Universe's time \\t Time to the first Merger\\n\")\n",
    "\n",
    "colm1 = []\n",
    "colm2 = []\n",
    "colm3 = []\n",
    "colm4 = []\n",
    "\n",
    "for h in r:\n",
    "    r0 = h*u.parsec\n",
    "    colm1.append(\"%.2f\"%r0.value)\n",
    "    I, err = quad(GAMMA, h+interval, 0., args=(r0,))\n",
    "    ctes = (14*math.pi/3.)*sigma*(N_i)*(n_j_1(r0)/vel_j(r0))*(alfa**(-2./7.))*(betha**(9./7.))*(etha**(-12./7.))\n",
    "    merger = (I*ctes*(u.parsec**(3.))).to(u.yr**(-1))\n",
    "    colm2.append(merger.value)\n",
    "    colm3.append((merger*(cosmo.age(0).to(u.yr))).value)\n",
    "    colm4.append(((merger**(-1.)).to(u.Gyr)).value)\n",
    "    print(\"%.2f\"%r0.value,\"\\t\",merger,\"\\t\\t\", merger*(cosmo.age(0).to(u.yr)),\"\\t\\t\",(merger**(-1.)).to(u.Gyr))#/(cosmo.age(0).to(u.yr)))\n"
   ]
  },
  {
   "cell_type": "code",
   "execution_count": 78,
   "id": "dc9868fc",
   "metadata": {},
   "outputs": [
    {
     "name": "stdout",
     "output_type": "stream",
     "text": [
      "Minimum time to get 1st Generation: \n",
      " T_merger =  2.3e+07 yr\n"
     ]
    }
   ],
   "source": [
    "for i in colm4:\n",
    "    if (i/10)<cosmo.age(0).value:\n",
    "        delta_t_1 = (np.amin(colm4))*u.Gyr\n",
    "        delta_t_1 = round((delta_t_1/10.).to(u.yr).value)\n",
    "    else:\n",
    "        delta_t_1 = (10e9)\n",
    "        #print(\"To get mergers we need age of universe, the system going to use\")\n",
    "        #print(\"{:.2e}\".format(delta_t_1))\n",
    "            \n",
    "print(\"Minimum time to get 1st Generation: \\n T_merger = \",\"{:.2e}\".format(delta_t_1)*u.yr)"
   ]
  },
  {
   "cell_type": "code",
   "execution_count": 79,
   "id": "c433771e",
   "metadata": {},
   "outputs": [
    {
     "name": "stdout",
     "output_type": "stream",
     "text": [
      "Primordial Black Holes Masses:\t m_i = 10.0 solMass m_j = 10.0 solMass\n",
      "\n",
      "Merger Rate (1/yr)  | Probability     | Collision Number         \n",
      "======================================================================\n",
      "1.114e-09    1 / yr |\t 2.564449e-02 | 9.672e+01                \n",
      "2.080e-09    1 / yr |\t 4.786201e-02 | 5.678e+02                \n",
      "3.002e-09    1 / yr |\t 6.909262e-02 | 1.770e+03                \n",
      "3.701e-09    1 / yr |\t 8.517464e-02 | 3.809e+03                \n",
      "4.132e-09    1 / yr |\t 9.507992e-02 | 6.474e+03                \n",
      "4.327e-09    1 / yr |\t 9.957703e-02 | 9.390e+03                \n",
      "4.345e-09    1 / yr |\t 1.000000e-01 | 1.219e+04                \n",
      "4.241e-09    1 / yr |\t 9.760134e-02 | 1.461e+04                \n",
      "4.057e-09    1 / yr |\t 9.335830e-02 | 1.650e+04                \n",
      "3.823e-09    1 / yr |\t 8.798495e-02 | 1.782e+04                \n"
     ]
    }
   ],
   "source": [
    "number_col_array = []\n",
    "prob_array = []\n",
    "\n",
    "print(\"Primordial Black Holes Masses:\\t\", f\"m_i = {m_i}\", f\"m_j = {m_j}\\n\")\n",
    "print(f\"{'Merger Rate (1/yr)':<19} | {'Probability':<15} | {'Collision Number':<25}\")\n",
    "print(\"=\" * 70)\n",
    "\n",
    "def integrand_n_i(r1):\n",
    "    a = (r1**2 / (R.value**2))\n",
    "    return (r1**2) * ((1 + a)**(-5./2.))\n",
    "\n",
    "def integrand_n_j(r0):\n",
    "    b = (r0**2 / (R.value**2))\n",
    "    return (r0**2) * ((1 + b)**(-5./2.))\n",
    "\n",
    "for h, i in zip(colm2, r): #    colm2.append(merger.value)\n",
    "    GAMMA_value = h * (1 / u.yr)\n",
    "    Prob = GAMMA_value * (delta_t_1 * u.yr)  # Integration dt\n",
    "    prob_array.append(Prob)\n",
    "\n",
    "    I, err = quad(integrand_n_j, 0, i + interval)\n",
    "    N_j_r = 3 * N_j * (R**-3) * I * u.parsec**3\n",
    "    Num_Col = N_j_r * Prob  # Número de choques\n",
    "    number_col_array.append(Num_Col)\n",
    "\n",
    "    # Imprimir cada fila con alineación fija\n",
    "    print(f\"{GAMMA_value:<12.3e} |\\t {Prob:<12e} | {Num_Col:<25.3e}\")\n"
   ]
  },
  {
   "cell_type": "code",
   "execution_count": 101,
   "id": "356f2e14",
   "metadata": {},
   "outputs": [
    {
     "name": "stdout",
     "output_type": "stream",
     "text": [
      "Energía radiada en GW: 2.234e+47 J\n",
      "Masa final del agujero negro fusionado: 18.750005 solMass\n",
      "3.981288735296757e+51 J\n",
      "2.1605266027948032e+49 J\n"
     ]
    },
    {
     "data": {
      "image/png": "[encoded data removed]",
      "text/plain": [
       "<Figure size 800x600 with 1 Axes>"
      ]
     },
     "metadata": {},
     "output_type": "display_data"
    }
   ],
   "source": [
    "#Definir el radio de Schwarzschild con Astropy\n",
    "def R_Schwarzschild(M):\n",
    "    \"\"\" Calcula el radio de Schwarzschild de un agujero negro con masa M \"\"\"\n",
    "    return (2 * G * M) / c**2\n",
    "\n",
    "# Definir la energía total radiada en ondas gravitacionales con unidades de Astropy\n",
    "def E_rad_GW(m1, m2, a0, a1):\n",
    "    \"\"\" Calcula la energía total radiada en ondas gravitacionales desde a0 hasta a1 \"\"\"\n",
    "    \n",
    "    # Convertir a unidades SI para la integración\n",
    "    G_SI = G.to(u.m**3 / (u.kg * u.s**2)).value  # Convertir G a unidades sin astropy para quad\n",
    "    m1_SI = m1.to(u.kg).value\n",
    "    m2_SI = m2.to(u.kg).value\n",
    "    a0_SI = a0.to(u.m).value\n",
    "    a1_SI = a1.to(u.m).value\n",
    "\n",
    "    # Realizar la integración numérica sin unidades y restaurar al final\n",
    "    integral, _ = spi.quad(lambda a: (m1_SI * m2_SI * G_SI / (2 * a**2)), a0_SI, a1_SI)\n",
    "    \n",
    "    return (integral * u.J)  # Restaurar unidades de energía en Joules\n",
    "\n",
    "# Definir la masa final del agujero negro fusionado\n",
    "def final_mass_GW(m1, m2, a0, a1):\n",
    "    \"\"\" Calcula la masa final del agujero negro fusionado después de la emisión de GW \"\"\"\n",
    "    E_rad = E_rad_GW(m1, m2, a0, a1)  # Energía radiada en GW\n",
    "    return (m1 + m2) - (E_rad / c**2)  # Corrección de masa con unidades de astropy\n",
    "\n",
    "# Definir parámetros iniciales con unidades de Astropy\n",
    "m_i = (10 * u.Msun)  # Masa del primer PBH\n",
    "m_j = (10 * u.Msun)  # Masa del segundo PBH\n",
    "\n",
    "a1_AU = 0.1 * u.AU  # Separación final en AU\n",
    "a0 = R_Schwarzschild(m_i) + R_Schwarzschild(m_j)  # Separación inicial mínima antes de la fusión\n",
    "\n",
    "# Calcular la energía radiada y la nueva masa fusionada\n",
    "energy_radiated = E_rad_GW(m_i, m_j, a0, a1_AU)\n",
    "final_mass = final_mass_GW(m_i, m_j, a0, a1_AU)\n",
    "\n",
    "# Mostrar los resultados con unidades de Astropy\n",
    "print(f\"Energía radiada en GW: {energy_radiated:.3e}\")\n",
    "print(f\"Masa final del agujero negro fusionado: {final_mass:f}\")\n",
    "\n",
    "energy_total_GW_shell = number_col_array * energy_radiated  # Usamos la misma E_rad en cada colisión\n",
    "\n",
    "print(np.max(energy_total_GW_shell))\n",
    "print(np.min(energy_total_GW_shell))\n",
    "\n",
    "\n",
    "pl.figure(figsize=(8, 6))\n",
    "pl.plot(r, energy_total_GW_shell)\n",
    "pl.xlabel(\"Radio (pc)\")\n",
    "pl.ylabel(r'$\\Delta E_{\\rm GW}$')\n",
    "pl.yscale('log')"
   ]
  },
  {
   "cell_type": "code",
   "execution_count": null,
   "id": "a578b041",
   "metadata": {},
   "outputs": [],
   "source": []
  },
  {
   "cell_type": "code",
   "execution_count": null,
   "id": "f4d7189c",
   "metadata": {},
   "outputs": [],
   "source": []
  },
  {
   "cell_type": "code",
   "execution_count": null,
   "id": "083e959a",
   "metadata": {},
   "outputs": [],
   "source": []
  },
  {
   "cell_type": "code",
   "execution_count": null,
   "id": "038b8585",
   "metadata": {},
   "outputs": [],
   "source": []
  },
  {
   "cell_type": "code",
   "execution_count": null,
   "id": "5b929290",
   "metadata": {},
   "outputs": [],
   "source": []
  },
  {
   "cell_type": "code",
   "execution_count": null,
   "id": "b07289f9",
   "metadata": {},
   "outputs": [],
   "source": []
  },
  {
   "cell_type": "code",
   "execution_count": null,
   "id": "7dcbc7e7",
   "metadata": {},
   "outputs": [],
   "source": []
  }
 ],
 "metadata": {
  "kernelspec": {
   "display_name": "Python 3 (ipykernel)",
   "language": "python",
   "name": "python3"
  },
  "language_info": {
   "codemirror_mode": {
    "name": "ipython",
    "version": 3
   },
   "file_extension": ".py",
   "mimetype": "text/x-python",
   "name": "python",
   "nbconvert_exporter": "python",
   "pygments_lexer": "ipython3",
   "version": "3.10.9"
  }
 },
 "nbformat": 4,
 "nbformat_minor": 5
}
